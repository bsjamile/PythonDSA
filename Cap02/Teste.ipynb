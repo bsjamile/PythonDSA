{
 "cells": [
  {
   "cell_type": "code",
   "execution_count": 1,
   "id": "5baddeca",
   "metadata": {},
   "outputs": [
    {
     "name": "stdout",
     "output_type": "stream",
     "text": [
      "Hello, World!\n"
     ]
    }
   ],
   "source": [
    "print(\"Hello, World!\")"
   ]
  },
  {
   "cell_type": "code",
   "execution_count": 2,
   "id": "85a66d59",
   "metadata": {},
   "outputs": [
    {
     "data": {
      "text/plain": [
       "4"
      ]
     },
     "execution_count": 2,
     "metadata": {},
     "output_type": "execute_result"
    }
   ],
   "source": [
    "2 + 2"
   ]
  },
  {
   "cell_type": "code",
   "execution_count": 1,
   "id": "70f9defb",
   "metadata": {},
   "outputs": [
    {
     "name": "stdout",
     "output_type": "stream",
     "text": [
      "Digite seu nome: Jbs\n",
      "Olá, Jbs!\n"
     ]
    }
   ],
   "source": [
    "nome = input(\"Digite seu nome: \")\n",
    "print(\"Olá, \" + nome + \"!\")"
   ]
  },
  {
   "cell_type": "code",
   "execution_count": 3,
   "id": "517403dc",
   "metadata": {},
   "outputs": [],
   "source": [
    "# Cria uma lista com números entre 1 e 100\n",
    "numeros = list(range(1, 101))"
   ]
  },
  {
   "cell_type": "code",
   "execution_count": 4,
   "id": "670f5387",
   "metadata": {},
   "outputs": [
    {
     "data": {
      "text/plain": [
       "list"
      ]
     },
     "execution_count": 4,
     "metadata": {},
     "output_type": "execute_result"
    }
   ],
   "source": [
    "type(numeros)"
   ]
  },
  {
   "cell_type": "markdown",
   "id": "d01dd29d",
   "metadata": {},
   "source": [
    "Gere código Python que crie uma lista com os números enrte 1 e 100 e então imprima os números pares, mas somente se o número for divisível por 4."
   ]
  },
  {
   "cell_type": "code",
   "execution_count": 2,
   "id": "c98fc3ce",
   "metadata": {},
   "outputs": [
    {
     "name": "stdout",
     "output_type": "stream",
     "text": [
      "4\n",
      "8\n",
      "12\n",
      "16\n",
      "20\n",
      "24\n",
      "28\n",
      "32\n",
      "36\n",
      "40\n",
      "44\n",
      "48\n",
      "52\n",
      "56\n",
      "60\n",
      "64\n",
      "68\n",
      "72\n",
      "76\n",
      "80\n",
      "84\n",
      "88\n",
      "92\n",
      "96\n",
      "100\n"
     ]
    }
   ],
   "source": [
    "# Cria uma lista com números entre 1 e 100\n",
    "numeros = list(range(1, 101))\n",
    "\n",
    "# Itera sobre os números na lista\n",
    "for numero in numeros:\n",
    "    # Verifica se o número é par e divisível por 4\n",
    "    if numero % 2 == 0 and numero % 4 == 0:\n",
    "        print(numero)"
   ]
  },
  {
   "cell_type": "markdown",
   "id": "1c3d576b",
   "metadata": {},
   "source": [
    "List Comprehension (reduzir o código, simplificar o seu programa e torná-lo mais rapido - estrutura diferente para fazer a mesma coisa)"
   ]
  },
  {
   "cell_type": "code",
   "execution_count": 5,
   "id": "3d9fa3b4",
   "metadata": {},
   "outputs": [
    {
     "name": "stdout",
     "output_type": "stream",
     "text": [
      "[4, 8, 12, 16, 20, 24, 28, 32, 36, 40, 44, 48, 52, 56, 60, 64, 68, 72, 76, 80, 84, 88, 92, 96, 100]\n"
     ]
    }
   ],
   "source": [
    "# Cria uma lista com números pares divisíveis por 4 entre 1 e 100\n",
    "numeros_pares_divisiveis_por_4 = [num for num in range(1, 101) if num % 2 == 0 and num % 4 == 0]\n",
    "\n",
    "# Imprime os números pares divisíveis por 4\n",
    "print(numeros_pares_divisiveis_por_4)"
   ]
  },
  {
   "cell_type": "code",
   "execution_count": 12,
   "id": "93440a8d",
   "metadata": {},
   "outputs": [
    {
     "data": {
      "text/plain": [
       "list"
      ]
     },
     "execution_count": 12,
     "metadata": {},
     "output_type": "execute_result"
    }
   ],
   "source": [
    "type(numeros_pares_divisiveis_por_4)"
   ]
  },
  {
   "cell_type": "code",
   "execution_count": 1,
   "id": "505c626e",
   "metadata": {},
   "outputs": [
    {
     "name": "stdout",
     "output_type": "stream",
     "text": [
      "Qual o seu nome? Jamile\n",
      "Olá, Jamile!\n"
     ]
    }
   ],
   "source": [
    "nome = input(\"Qual o seu nome? \")\n",
    "print(\"Olá, \" + nome + \"!\")"
   ]
  },
  {
   "cell_type": "code",
   "execution_count": 14,
   "id": "4b4ef2fc",
   "metadata": {},
   "outputs": [
    {
     "name": "stdout",
     "output_type": "stream",
     "text": [
      "Qual o seu nome? Bell\n",
      "Qual sua fruta favorita? Jamile\n",
      "A fruta favorita de Bell é Jamile!\n"
     ]
    }
   ],
   "source": [
    "nome = input('Qual o seu nome? ')\n",
    "fruta = input(\"Qual sua fruta favorita? \")\n",
    "print(\"A fruta favorita de \" + nome +\" é \"+ fruta + '!')"
   ]
  },
  {
   "cell_type": "code",
   "execution_count": 13,
   "id": "b37c60b7",
   "metadata": {},
   "outputs": [
    {
     "name": "stdout",
     "output_type": "stream",
     "text": [
      "Bem-vindo ao Calculador de Área de Paraleleogramo\n",
      "Insira o comprimento da base(metros): 5\n",
      "Insira a altura(metros): 4\n",
      "A área do Paralelogramo é 20.0 m²!!\n"
     ]
    }
   ],
   "source": [
    "print('Bem-vindo ao Calculador de Área de Paraleleogramo')\n",
    "comprimento = float(input('Insira o comprimento da base(metros): '))\n",
    "altura = float(input('Insira a altura(metros): '))\n",
    "area = comprimento * altura\n",
    "print(f'A área do Paralelogramo é {area} m²!!')"
   ]
  },
  {
   "cell_type": "code",
   "execution_count": 15,
   "id": "b8654037",
   "metadata": {},
   "outputs": [
    {
     "name": "stdout",
     "output_type": "stream",
     "text": [
      "Bem-vindo ao Calculador de Área de Paraleleogramo\n",
      "Insira o comprimento da base(metros): 2\n",
      "Insira a altura(metros): 2\n",
      "A área do Paralelogramo é 4.0\n"
     ]
    }
   ],
   "source": [
    "print('Bem-vindo ao Calculador de Área de Paraleleogramo')\n",
    "comprimento = float(input('Insira o comprimento da base(metros): '))\n",
    "altura = float(input('Insira a altura(metros): '))\n",
    "area = comprimento * altura\n",
    "print('A área do Paralelogramo é', area)"
   ]
  },
  {
   "cell_type": "code",
   "execution_count": 20,
   "id": "ad7abafc",
   "metadata": {},
   "outputs": [
    {
     "name": "stdout",
     "output_type": "stream",
     "text": [
      "Calculadora\n",
      "Digite um numero:100\n",
      "Digite outro numero:50\n",
      "Operações do 100.0 com o 50.0 é: Soma: 150.0, Subtração: 50.0, Divisão: 2.0, Multiplicação: 5000.0\n"
     ]
    }
   ],
   "source": [
    "print(\"Calculadora\")\n",
    "numero1 = float(input('Digite um numero:'))\n",
    "numero2 = float(input('Digite outro numero:'))\n",
    "soma = numero1 + numero2\n",
    "divisao = numero1/numero2\n",
    "multiplicacao = numero1 * numero2\n",
    "subtracao = numero1 - numero2\n",
    "\n",
    "print(f'Operações do {numero1} com o {numero2} é: Soma: {soma}, Subtração: {subtracao}, Divisão: {divisao}, Multiplicação: {multiplicacao}')"
   ]
  },
  {
   "cell_type": "code",
   "execution_count": 32,
   "id": "52ea4235",
   "metadata": {},
   "outputs": [
    {
     "name": "stdout",
     "output_type": "stream",
     "text": [
      "Calculadora\n",
      "Digite um numero:1\n",
      "Digite outro numero:2\n",
      "Digite a operação que deseja realizar (+,-,/,*): asdas\n",
      "Digite um sinal de operação válido!\n"
     ]
    }
   ],
   "source": [
    "print(\"Calculadora\")\n",
    "numero1 = float(input('Digite um numero:'))\n",
    "numero2 = float(input('Digite outro numero:'))\n",
    "operacao = input('Digite a operação que deseja realizar (+,-,/,*): ')\n",
    "\n",
    "if operacao == \"+\":    \n",
    "    resultado = numero1 + numero2\n",
    "    print(f'O resultado é {resultado}')\n",
    "elif operacao == '-':\n",
    "    resultado = numero1 - numero2\n",
    "    print(f'O resultado é {resultado}')\n",
    "elif operacao == '*':\n",
    "    resultado = numero1 * numero2    \n",
    "    print(f'O resultado é {resultado}')\n",
    "elif operacao == '/':\n",
    "    resultado = numero1 / numero2\n",
    "    print(f'O resultado é {resultado}')\n",
    "else:\n",
    "    print('Digite um sinal de operação válido!')\n",
    "    \n"
   ]
  },
  {
   "cell_type": "code",
   "execution_count": 33,
   "id": "aa09d0a5",
   "metadata": {},
   "outputs": [],
   "source": [
    "lista = [6,7,8,3,10,19,4,1,0,61,30,16,17,82,29,34,43,21,11,39,56,67,12]"
   ]
  },
  {
   "cell_type": "code",
   "execution_count": 39,
   "id": "20284b2b",
   "metadata": {},
   "outputs": [],
   "source": [
    "def buble_sort(arr):\n",
    "    \n",
    "    n = len(arr)\n",
    "    \n",
    "    # Para cada elemento i do array\n",
    "    for i in range(n):\n",
    "        \n",
    "        #Para cada elemento j do array\n",
    "        for j in range(0, n-i-1): #-1 para não comparar o elemento com ele mesmo\n",
    "            \n",
    "            # Se elemento i for maior que elemento j\n",
    "            if arr[j] > arr[j+1]:\n",
    "                \n",
    "                # Troque os elementos i e j\n",
    "                arr[j], arr[j+1] = arr[j+1], arr[j]\n",
    "    return arr"
   ]
  },
  {
   "cell_type": "code",
   "execution_count": 40,
   "id": "990f6a53",
   "metadata": {},
   "outputs": [
    {
     "name": "stdout",
     "output_type": "stream",
     "text": [
      "[0, 1, 3, 4, 6, 7, 8, 10, 11, 12, 16, 17, 19, 21, 29, 30, 34, 39, 43, 56, 61, 67, 82]\n"
     ]
    }
   ],
   "source": [
    "print(buble_sort(lista))"
   ]
  },
  {
   "cell_type": "code",
   "execution_count": 41,
   "id": "95d1376b",
   "metadata": {},
   "outputs": [
    {
     "ename": "SyntaxError",
     "evalue": "invalid syntax (2973017674.py, line 4)",
     "output_type": "error",
     "traceback": [
      "\u001b[1;36m  File \u001b[1;32m\"C:\\Users\\jamile.santos\\AppData\\Local\\Temp\\ipykernel_3028\\2973017674.py\"\u001b[1;36m, line \u001b[1;32m4\u001b[0m\n\u001b[1;33m    print(f'A soma é,' {soma})\u001b[0m\n\u001b[1;37m                       ^\u001b[0m\n\u001b[1;31mSyntaxError\u001b[0m\u001b[1;31m:\u001b[0m invalid syntax\n"
     ]
    }
   ],
   "source": [
    "nume1 = float(input('Digite um numero: '))\n",
    "nume2 = float(input('Digite outro numero: ')) \n",
    "soma = nume1 + nume2\n",
    "print(f'A soma é: {soma}')"
   ]
  },
  {
   "cell_type": "code",
   "execution_count": 42,
   "id": "a4904bc9",
   "metadata": {},
   "outputs": [
    {
     "name": "stdout",
     "output_type": "stream",
     "text": [
      "Versão da Linguagem Python Usada Neste Jupyter Notebook: 3.9.13\n"
     ]
    }
   ],
   "source": [
    "# Versão da Linguagem Python\n",
    "from platform import python_version\n",
    "print('Versão da Linguagem Python Usada Neste Jupyter Notebook:', python_version())"
   ]
  },
  {
   "cell_type": "code",
   "execution_count": null,
   "id": "14b8564a",
   "metadata": {},
   "outputs": [],
   "source": [
    "## Fim"
   ]
  }
 ],
 "metadata": {
  "kernelspec": {
   "display_name": "Python 3 (ipykernel)",
   "language": "python",
   "name": "python3"
  },
  "language_info": {
   "codemirror_mode": {
    "name": "ipython",
    "version": 3
   },
   "file_extension": ".py",
   "mimetype": "text/x-python",
   "name": "python",
   "nbconvert_exporter": "python",
   "pygments_lexer": "ipython3",
   "version": "3.9.13"
  }
 },
 "nbformat": 4,
 "nbformat_minor": 5
}
