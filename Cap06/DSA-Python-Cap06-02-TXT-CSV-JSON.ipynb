{
 "cells": [
  {
   "cell_type": "markdown",
   "metadata": {},
   "source": [
    "# <font color='blue'>Data Science Academy</font>\n",
    "\n",
    "## <font color='blue'>Fundamentos de Linguagem Python Para Análise de Dados e Data Science</font>\n",
    "\n",
    "## <font color='blue'>Capítulo 6 - Manipulação de Arquivos - Parte 2</font>"
   ]
  },
  {
   "cell_type": "code",
   "execution_count": 1,
   "metadata": {},
   "outputs": [
    {
     "name": "stdout",
     "output_type": "stream",
     "text": [
      "Versão da Linguagem Python Usada Neste Jupyter Notebook: 3.9.13\n"
     ]
    }
   ],
   "source": [
    "# Versão da Linguagem Python\n",
    "from platform import python_version\n",
    "print('Versão da Linguagem Python Usada Neste Jupyter Notebook:', python_version())"
   ]
  },
  {
   "cell_type": "markdown",
   "metadata": {
    "slideshow": {
     "slide_type": "slide"
    }
   },
   "source": [
    "## Manipulando Arquivos TXT\n",
    "\n",
    "TXT é a extensão de arquivo para arquivos de texto puro. Um arquivo TXT é um arquivo de texto simples sem formatação, como negrito, itálico ou fontes diferentes. Ele pode ser aberto e editado com muitos aplicativos diferentes, incluindo editores de texto, processadores de texto e IDEs. Arquivos TXT são amplamente utilizados para armazenar dados de texto simples, como listas, notas e documentos de texto. Eles são universais e podem ser lidos em praticamente qualquer dispositivo ou sistema operacional."
   ]
  },
  {
   "cell_type": "code",
   "execution_count": 2,
   "metadata": {},
   "outputs": [],
   "source": [
    "texto = \"Cientista de Dados pode ser uma excelente alternativa de carreira.\\n\"\n",
    "texto = texto + \"Esses profissionais precisam saber como programar em Python.\\n\"\n",
    "texto += \"E, claro, devem ser proficientes em Data Science.\""
   ]
  },
  {
   "cell_type": "code",
   "execution_count": 3,
   "metadata": {},
   "outputs": [
    {
     "name": "stdout",
     "output_type": "stream",
     "text": [
      "Cientista de Dados pode ser uma excelente alternativa de carreira.\n",
      "Esses profissionais precisam saber como programar em Python.\n",
      "E, claro, devem ser proficientes em Data Science.\n"
     ]
    }
   ],
   "source": [
    "print(texto)"
   ]
  },
  {
   "cell_type": "code",
   "execution_count": 4,
   "metadata": {},
   "outputs": [],
   "source": [
    "# Importando o módulo os\n",
    "import os"
   ]
  },
  {
   "cell_type": "code",
   "execution_count": 5,
   "metadata": {},
   "outputs": [],
   "source": [
    "# Criando um arquivo \n",
    "arquivo = open(os.path.join('arquivos/cientista.txt'),'w')"
   ]
  },
  {
   "cell_type": "code",
   "execution_count": 6,
   "metadata": {},
   "outputs": [],
   "source": [
    "# Gravando os dados no arquivo\n",
    "for palavra in texto.split():\n",
    "    arquivo.write(palavra + ' ')"
   ]
  },
  {
   "cell_type": "code",
   "execution_count": 7,
   "metadata": {},
   "outputs": [],
   "source": [
    "# Fechando o arquivo\n",
    "arquivo.close()"
   ]
  },
  {
   "cell_type": "code",
   "execution_count": 8,
   "metadata": {},
   "outputs": [
    {
     "name": "stdout",
     "output_type": "stream",
     "text": [
      "Cientista de Dados pode ser uma excelente alternativa de carreira. Esses profissionais precisam saber como programar em Python. E, claro, devem ser proficientes em Data Science. \n"
     ]
    }
   ],
   "source": [
    "# Lendo o arquivo\n",
    "arquivo = open('arquivos/cientista.txt','r')\n",
    "conteudo = arquivo.read()\n",
    "arquivo.close()\n",
    "print(conteudo)"
   ]
  },
  {
   "cell_type": "markdown",
   "metadata": {
    "slideshow": {
     "slide_type": "slide"
    }
   },
   "source": [
    "### Usando a Expressão `with` \n",
    "\n",
    "O método close() é executado automaticamente."
   ]
  },
  {
   "cell_type": "code",
   "execution_count": 9,
   "metadata": {},
   "outputs": [],
   "source": [
    "with open('arquivos/cientista.txt','r') as arquivo:\n",
    "    conteudo = arquivo.read()\n",
    "    #with fecha o arquivo sem precisar chamar o metodo close"
   ]
  },
  {
   "cell_type": "code",
   "execution_count": 10,
   "metadata": {},
   "outputs": [
    {
     "name": "stdout",
     "output_type": "stream",
     "text": [
      "178\n"
     ]
    }
   ],
   "source": [
    "print(len(conteudo))"
   ]
  },
  {
   "cell_type": "code",
   "execution_count": 11,
   "metadata": {},
   "outputs": [
    {
     "name": "stdout",
     "output_type": "stream",
     "text": [
      "Cientista de Dados pode ser uma excelente alternativa de carreira. Esses profissionais precisam saber como programar em Python. E, claro, devem ser proficientes em Data Science. \n"
     ]
    }
   ],
   "source": [
    "print(conteudo)"
   ]
  },
  {
   "cell_type": "code",
   "execution_count": 37,
   "metadata": {},
   "outputs": [],
   "source": [
    "with open('arquivos/cientista.txt','w') as arquivo:\n",
    "    arquivo.write(texto[:19])\n",
    "    arquivo.write('\\n')\n",
    "    arquivo.write(texto[28:66])"
   ]
  },
  {
   "cell_type": "code",
   "execution_count": 38,
   "metadata": {},
   "outputs": [
    {
     "name": "stdout",
     "output_type": "stream",
     "text": [
      "Cientista de Dados \n",
      "uma excelente alternativa de carreira.\n"
     ]
    }
   ],
   "source": [
    "# Lendo o arquivo\n",
    "arquivo = open('arquivos/cientista.txt','r')\n",
    "conteudo = arquivo.read()\n",
    "arquivo.close()\n",
    "print (conteudo)"
   ]
  },
  {
   "cell_type": "markdown",
   "metadata": {
    "slideshow": {
     "slide_type": "slide"
    }
   },
   "source": [
    "## Manipulando Arquivos CSV \n",
    "\n",
    "CSV (Comma-Separated Values) é um formato de arquivo que armazena dados tabulares em formato de texto plano. Cada linha do arquivo CSV representa uma linha da tabela e as colunas são separadas por vírgulas. É amplamente utilizado para exportar e importar dados em diferentes aplicações, como planilhas e banco de dados. CSV é uma opção simples e universal para compartilhar dados, pois pode ser aberto e editado com muitos aplicativos diferentes, incluindo programas de planilha e editores de texto."
   ]
  },
  {
   "cell_type": "code",
   "execution_count": 39,
   "metadata": {},
   "outputs": [],
   "source": [
    "# Importando o módulo csv\n",
    "import csv"
   ]
  },
  {
   "cell_type": "code",
   "execution_count": 40,
   "metadata": {},
   "outputs": [],
   "source": [
    "with open('arquivos/numeros.csv','w') as arquivo:\n",
    "    \n",
    "    # Cria o objeto de gravação\n",
    "    writer = csv.writer(arquivo)\n",
    "    \n",
    "    # Grava no arquivo linha a linha\n",
    "    writer.writerow(('nota1', 'nota2', 'nota3'))\n",
    "    writer.writerow((63,87,92)) \n",
    "    writer.writerow((61,79,76))\n",
    "    writer.writerow((72,64,91))"
   ]
  },
  {
   "cell_type": "code",
   "execution_count": 41,
   "metadata": {},
   "outputs": [
    {
     "name": "stdout",
     "output_type": "stream",
     "text": [
      "['nota1', 'nota2', 'nota3']\n",
      "['63', '87', '92']\n",
      "['61', '79', '76']\n",
      "['72', '64', '91']\n"
     ]
    }
   ],
   "source": [
    "# Leitura de arquivos csv\n",
    "with open('arquivos/numeros.csv', 'r', encoding='utf8', newline = '\\r\\n') as arquivo:\n",
    "    \n",
    "    # Cria o objeto de leitura\n",
    "    leitor = csv.reader(arquivo)\n",
    "    \n",
    "    # Loop\n",
    "    for x in leitor:\n",
    "        print(x)"
   ]
  },
  {
   "cell_type": "code",
   "execution_count": 42,
   "metadata": {},
   "outputs": [],
   "source": [
    "# Gerando uma lista com dados do arquivo csv\n",
    "with open('arquivos/numeros.csv','r') as arquivo:\n",
    "    leitor = csv.reader(arquivo)\n",
    "    dados = list(leitor)"
   ]
  },
  {
   "cell_type": "code",
   "execution_count": 43,
   "metadata": {},
   "outputs": [
    {
     "name": "stdout",
     "output_type": "stream",
     "text": [
      "[['nota1', 'nota2', 'nota3'], [], ['63', '87', '92'], [], ['61', '79', '76'], [], ['72', '64', '91'], []]\n"
     ]
    }
   ],
   "source": [
    "print(dados)"
   ]
  },
  {
   "cell_type": "code",
   "execution_count": 44,
   "metadata": {},
   "outputs": [
    {
     "name": "stdout",
     "output_type": "stream",
     "text": [
      "[]\n",
      "['63', '87', '92']\n",
      "[]\n",
      "['61', '79', '76']\n",
      "[]\n",
      "['72', '64', '91']\n",
      "[]\n"
     ]
    }
   ],
   "source": [
    "# Impriminfo a partir da segunda linha\n",
    "for linha in dados[1:]:\n",
    "    print(linha)"
   ]
  },
  {
   "cell_type": "markdown",
   "metadata": {
    "slideshow": {
     "slide_type": "slide"
    }
   },
   "source": [
    "## Manipulando Arquivos JSON (Java Script Object Notation )\n",
    "\n",
    "JSON (JavaScript Object Notation) é um formato de dados de texto simples e leve que é utilizado para transmitir informações em aplicações web. É baseado em uma estrutura de objetos JavaScript e usa pares de chave-valor para representar dados. JSON é facilmente lido e escrito por máquinas e é amplamente utilizado como formato de intercâmbio de dados em aplicações web modernas."
   ]
  },
  {
   "cell_type": "code",
   "execution_count": 45,
   "metadata": {},
   "outputs": [],
   "source": [
    "# Criando um dicionário\n",
    "dict_guido = {'nome': 'Guido van Rossum',\n",
    "              'linguagem': 'Python',\n",
    "              'similar': ['c','Modula-3','lisp'],\n",
    "              'users': 1000000}"
   ]
  },
  {
   "cell_type": "code",
   "execution_count": 46,
   "metadata": {},
   "outputs": [
    {
     "name": "stdout",
     "output_type": "stream",
     "text": [
      "nome Guido van Rossum\n",
      "linguagem Python\n",
      "similar ['c', 'Modula-3', 'lisp']\n",
      "users 1000000\n"
     ]
    }
   ],
   "source": [
    "for k,v in dict_guido.items():\n",
    "    print (k,v)"
   ]
  },
  {
   "cell_type": "code",
   "execution_count": 47,
   "metadata": {},
   "outputs": [],
   "source": [
    "# Importando o módulo JSON\n",
    "import json"
   ]
  },
  {
   "cell_type": "code",
   "execution_count": 48,
   "metadata": {},
   "outputs": [
    {
     "data": {
      "text/plain": [
       "'{\"nome\": \"Guido van Rossum\", \"linguagem\": \"Python\", \"similar\": [\"c\", \"Modula-3\", \"lisp\"], \"users\": 1000000}'"
      ]
     },
     "execution_count": 48,
     "metadata": {},
     "output_type": "execute_result"
    }
   ],
   "source": [
    "# Convertendo o dicionário para um objeto json\n",
    "json.dumps(dict_guido)"
   ]
  },
  {
   "cell_type": "code",
   "execution_count": 49,
   "metadata": {},
   "outputs": [],
   "source": [
    "# Criando um arquivo Json\n",
    "with open('arquivos/dados.json','w') as arquivo:\n",
    "    arquivo.write(json.dumps(dict_guido))"
   ]
  },
  {
   "cell_type": "code",
   "execution_count": 50,
   "metadata": {},
   "outputs": [],
   "source": [
    "# Leitura de arquivos Json\n",
    "with open('arquivos/dados.json','r') as arquivo:\n",
    "    texto = arquivo.read()\n",
    "    dados = json.loads(texto)"
   ]
  },
  {
   "cell_type": "code",
   "execution_count": 51,
   "metadata": {},
   "outputs": [
    {
     "data": {
      "text/plain": [
       "{'nome': 'Guido van Rossum',\n",
       " 'linguagem': 'Python',\n",
       " 'similar': ['c', 'Modula-3', 'lisp'],\n",
       " 'users': 1000000}"
      ]
     },
     "execution_count": 51,
     "metadata": {},
     "output_type": "execute_result"
    }
   ],
   "source": [
    "dados"
   ]
  },
  {
   "cell_type": "code",
   "execution_count": 52,
   "metadata": {},
   "outputs": [
    {
     "name": "stdout",
     "output_type": "stream",
     "text": [
      "Guido van Rossum\n"
     ]
    }
   ],
   "source": [
    "print(dados['nome'])"
   ]
  },
  {
   "cell_type": "markdown",
   "metadata": {},
   "source": [
    "### Extração de Arquivo da Web"
   ]
  },
  {
   "cell_type": "code",
   "execution_count": 56,
   "metadata": {},
   "outputs": [],
   "source": [
    "# Imprimindo um arquivo JSON copiado da internet\n",
    "from urllib.request import urlopen\n",
    "\n",
    "response = urlopen(\"http://vimeo.com/api/v2/video/57733101.json\").read().decode('utf8')\n",
    "dados = json.loads(response)[0]"
   ]
  },
  {
   "cell_type": "code",
   "execution_count": 57,
   "metadata": {},
   "outputs": [
    {
     "data": {
      "text/plain": [
       "{'id': 57733101,\n",
       " 'title': 'The Good Man trailer',\n",
       " 'description': 'Trailer for the Manifesto Films production, The Good Man, now available in UK/Ireland/US/Canada/Australia/New Zealand on iTunes (https://itunes.apple.com/us/movie/the-good-man/id873130906) and DVD (http://www.amazon.co.uk/The-Good-Man-Aiden-Gillen/dp/B00IIK6CGU/). Co-production with Jet Black Entertainment (South Africa). Starring Aidan Gillen, Thabang Sidloyi, Kelly Campbell, Lunathi Mampofu. Written & directed by Phil Harrison. More info at www.thegoodmanfilm.com<br />\\r\\n<br />\\r\\nCheck out the Variety Magazine review here: http://www.variety.com/review/VE1117947909/',\n",
       " 'url': 'https://vimeo.com/57733101',\n",
       " 'upload_date': '2013-01-19 04:01:15',\n",
       " 'thumbnail_small': 'https://i.vimeocdn.com/video/436057121-e828a1f5478ec0136e957753d107f2a1268c64def9b82faac37c8e30c031cff2-d_100x75',\n",
       " 'thumbnail_medium': 'https://i.vimeocdn.com/video/436057121-e828a1f5478ec0136e957753d107f2a1268c64def9b82faac37c8e30c031cff2-d_200x150',\n",
       " 'thumbnail_large': 'https://i.vimeocdn.com/video/436057121-e828a1f5478ec0136e957753d107f2a1268c64def9b82faac37c8e30c031cff2-d_640',\n",
       " 'user_id': 1334563,\n",
       " 'user_name': 'Manifesto Films',\n",
       " 'user_url': 'https://vimeo.com/manifestofilms',\n",
       " 'user_portrait_small': 'https://i.vimeocdn.com/portrait/4778306_30x30?sig=dce4bd41e32adf3305ffd0a161ae27a5c919bba5773cf2f2c3ca5be075726518&v=1',\n",
       " 'user_portrait_medium': 'https://i.vimeocdn.com/portrait/4778306_75x75?sig=dce4bd41e32adf3305ffd0a161ae27a5c919bba5773cf2f2c3ca5be075726518&v=1',\n",
       " 'user_portrait_large': 'https://i.vimeocdn.com/portrait/4778306_100x100?sig=dce4bd41e32adf3305ffd0a161ae27a5c919bba5773cf2f2c3ca5be075726518&v=1',\n",
       " 'user_portrait_huge': 'https://i.vimeocdn.com/portrait/4778306_300x300?sig=dce4bd41e32adf3305ffd0a161ae27a5c919bba5773cf2f2c3ca5be075726518&v=1',\n",
       " 'stats_number_of_likes': 18,\n",
       " 'stats_number_of_plays': 6747,\n",
       " 'stats_number_of_comments': 0,\n",
       " 'duration': 143,\n",
       " 'width': 1024,\n",
       " 'height': 576,\n",
       " 'tags': 'belfast, cape town, africa, ireland, film',\n",
       " 'embed_privacy': 'anywhere'}"
      ]
     },
     "execution_count": 57,
     "metadata": {},
     "output_type": "execute_result"
    }
   ],
   "source": [
    "dados"
   ]
  },
  {
   "cell_type": "code",
   "execution_count": 58,
   "metadata": {},
   "outputs": [
    {
     "name": "stdout",
     "output_type": "stream",
     "text": [
      "Título:  The Good Man trailer\n",
      "URL:  https://vimeo.com/57733101\n",
      "Duração:  143\n",
      "Número de Visualizações:  6747\n"
     ]
    }
   ],
   "source": [
    "print ('Título: ', dados['title'])\n",
    "print ('URL: ', dados['url'])\n",
    "print ('Duração: ', dados['duration'])\n",
    "print ('Número de Visualizações: ', dados['stats_number_of_plays'])"
   ]
  },
  {
   "cell_type": "markdown",
   "metadata": {},
   "source": [
    "> Copiando o conteúdo de um arquivo para outro."
   ]
  },
  {
   "cell_type": "code",
   "execution_count": 59,
   "metadata": {},
   "outputs": [],
   "source": [
    "# Nomes dos arquivos\n",
    "arquivo_fonte = 'arquivos/dados.json'\n",
    "arquivo_destino = 'arquivos/dados.txt'"
   ]
  },
  {
   "cell_type": "code",
   "execution_count": 60,
   "metadata": {},
   "outputs": [],
   "source": [
    "# Método 1\n",
    "with open(arquivo_fonte,'r') as infile:\n",
    "    text = infile.read()\n",
    "    with open(arquivo_destino,'w') as outfile:\n",
    "        outfile.write(text)  "
   ]
  },
  {
   "cell_type": "code",
   "execution_count": 61,
   "metadata": {},
   "outputs": [
    {
     "data": {
      "text/plain": [
       "107"
      ]
     },
     "execution_count": 61,
     "metadata": {},
     "output_type": "execute_result"
    }
   ],
   "source": [
    "# Método 2\n",
    "open(arquivo_destino,'w').write(open(arquivo_fonte,'r').read()) "
   ]
  },
  {
   "cell_type": "code",
   "execution_count": 62,
   "metadata": {},
   "outputs": [
    {
     "name": "stdout",
     "output_type": "stream",
     "text": [
      "<class 'str'>\n"
     ]
    }
   ],
   "source": [
    "# Leitura do arquivo txt\n",
    "with open('arquivos/dados.txt','r') as arquivo:\n",
    "    texto = arquivo.read()\n",
    "    dados = json.loads(texto)\n",
    "print(type(texto))"
   ]
  },
  {
   "cell_type": "code",
   "execution_count": null,
   "metadata": {},
   "outputs": [],
   "source": [
    "print(dados['nome'])"
   ]
  },
  {
   "cell_type": "code",
   "execution_count": null,
   "metadata": {},
   "outputs": [],
   "source": [
    "import selenium\n",
    "import time\n",
    "from selenium.webdriver.chrome.service import Service\n",
    "from webdriver_manager.chrome import ChromeDriverManager\n",
    "import pandas as pd\n",
    "import os"
   ]
  },
  {
   "cell_type": "code",
   "execution_count": null,
   "metadata": {},
   "outputs": [],
   "source": [
    "usuario = input('Insira o usuário do AtenaPrev.Net: ')\n",
    "senha = input('Insira a senha do AtenaPrev.Net: ')\n",
    "referencia = '2024'\n",
    "\n",
    "\n",
    "\n",
    "diretorio = f\"H:\\GAC\\Relatórios Santander\\Carteira Custódia\\{referencia}\\carteiras\\\\\"\n",
    "chrome_options = Options()\n",
    "chrome_options.add_experimental_option(\"detach\", True)\n",
    "\n",
    "prefs = {\"download.default_directory\" : diretorio}\n",
    "chrome_options.add_experimental_option(\"prefs\", prefs)\n",
    "\n",
    "servico = Service(ChromeDriverManager().install())\n",
    "navegador = webdriver.Chrome(service=servico, options=chrome_options)\n",
    "navegador.get(\"http://contabilidade.neos.com/ControleAcesso/login/Login.aspx\")\n",
    "\n",
    "navegador.find_element('xpath','//*[@id=\"MainContent_lgnLogin_UserName\"]').send_keys(usuario) #insere o login\n",
    "navegador.find_element('xpath','//*[@id=\"MainContent_lgnLogin_Password\"]').send_keys(senha) #insere a senha\n",
    "navegador.find_element('xpath','//*[@id=\"MainContent_lgnLogin_LoginButton\"]').click() #clica \"entrar\"\n",
    "\n",
    "navegador.get(\"http://contabilidade.neos.com/Contabilidade/Default.aspx\")\n",
    "navegador.get(\"http://contabilidade.neos.com/Contabilidade\")\n",
    "navegador.get(\"http://contabilidade.neos.com/Contabilidade/Relatorios/Balancete/contabil/Pesquisar.aspx\")\n",
    "\n"
   ]
  },
  {
   "cell_type": "code",
   "execution_count": null,
   "metadata": {},
   "outputs": [],
   "source": [
    "# Lista de opções para escolha dos balancetes\n",
    "opcoes_xpath = [\n",
    "    '//*[@id=\"MainContent_MainContent_fpuBalancete_lbtList_lbxLeft\"]/option[9]',# CD BA\n",
    "    '//*[@id=\"MainContent_MainContent_fpuBalancete_lbtList_lbxLeft\"]/option[8]',# BD BA\n",
    "    '//*[@id=\"MainContent_MainContent_fpuBalancete_lbtList_lbxLeft\"]/option[7]',# CD RN\n",
    "    '//*[@id=\"MainContent_MainContent_fpuBalancete_lbtList_lbxLeft\"]/option[5]',# PGA\n",
    "    '//*[@id=\"MainContent_MainContent_fpuBalancete_lbtList_lbxLeft\"]/option[4]',# BD RN\n",
    "    '//*[@id=\"MainContent_MainContent_fpuBalancete_lbtList_lbxLeft\"]/option[3]',# CD PE\n",
    "    '//*[@id=\"MainContent_MainContent_fpuBalancete_lbtList_lbxLeft\"]/option[2]',# BD PE    \n",
    "    '//*[@id=\"MainContent_MainContent_fpuBalancete_lbtList_lbxLeft\"]/option[1]',# CD Néos\n",
    "]\n",
    "\n",
    "\n",
    "# Loop para escolha das opções xpath\n",
    "for opcoes_xpath in opcoes_xpath:\n",
    "    #Abre janela de seleção de balancete\n",
    "    navegador.find_element('xpath','//*[@id=\"MainContent_MainContent_fpuBalancete_lnkSelecionado\"]').click()\n",
    "    time.sleep (0.75)\n",
    "\n",
    "    #Limpa possíveis balancetes selecionados\n",
    "    navegador.find_element('xpath','//*[@id=\"MainContent_MainContent_fpuBalancete_lbtList_btnRemAll\"]').click() #//*[@id=\"MainContent_MainContent_fpuBalancete_lbtList_lbxRight\"]/option\n",
    "    time.sleep (0.75)\n",
    "\n",
    "    #Seleciona balancete CD Néos\n",
    "    elemento = navegador.find_element(By.XPATH, opcoes_xpath)\n",
    "    acoes = ActionChains(navegador)\n",
    "    acoes.double_click(elemento).perform()\n",
    "    time.sleep (0.75)\n",
    "\n",
    "    #Fecha janela de seleção de balancete\n",
    "    navegador.find_element('xpath','//*[@id=\"MainContent_MainContent_fpuBalancete_btnCancelar\"]').click()\n",
    "    time.sleep (1.75)\n",
    "\n",
    "    #Exporta balancete\n",
    "    navegador.find_element('xpath','//*[@id=\"MainContent_MainContent_btnExportar\"]').click()\n",
    "    time.sleep (1.75)\n",
    "\n",
    "#Abre janela de seleção de balancete\n",
    "navegador.find_element('xpath','//*[@id=\"MainContent_MainContent_fpuBalancete_lnkSelecionado\"]').click()\n",
    "time.sleep (0.75)\n",
    "\n",
    "#Limpa possíveis balancetes selecionados\n",
    "navegador.find_element('xpath','//*[@id=\"MainContent_MainContent_fpuBalancete_lbtList_btnRemAll\"]').click() #//*[@id=\"MainContent_MainContent_fpuBalancete_lbtList_lbxRight\"]/option\n",
    "time.sleep (0.75)\n",
    "\n",
    "#Fecha janela de seleção de balancete\n",
    "navegador.find_element('xpath','//*[@id=\"MainContent_MainContent_fpuBalancete_btnCancelar\"]').click()\n",
    "time.sleep (1.75)\n",
    "\n",
    "opcoes_xpath_perfis = [\n",
    "    'Bas CD BA',\n",
    "    'Dif CD BA',\n",
    "    'Cons CD BA',\n",
    "    'Cons CD RN',\n",
    "    'Mod Plus CD RN',\n",
    "    'Mod CD RN',\n",
    "    'Agr CD RN',\n",
    "    'Agr Plus CD RN',\n",
    "    'Super Conservador CD PE',\n",
    "    'Conservador CD PE',\n",
    "    'Moderado CD PE',\n",
    "    'Agressivo CD PE',\n",
    "    'Super Agressivo CD PE',\n",
    "    'Sup Cons CD Néos',\n",
    "    'Cons CD Néos',\n",
    "    'Mod CD Néos',\n",
    "    'Agr CD Néos', \n",
    "]\n",
    "\n",
    "# Loop para escolha dos perfis\n",
    "for opcoes_xpath_perfis in opcoes_xpath_perfis:\n",
    "\n",
    "    #Seleciona os perfis\n",
    "    elemento = navegador.find_element(By.XPATH, '//*[@id=\"MainContent_MainContent_ddlTipoCota\"]').send_keys(opcoes_xpath_perfis)\n",
    "        \n",
    "    #Exporta balancete\n",
    "    navegador.find_element('xpath','//*[@id=\"MainContent_MainContent_btnExportar\"]').click()\n",
    "    time.sleep (1.75)\n",
    "\n",
    "time.sleep (120)\n",
    "\n",
    "nomes_antigos = [\n",
    "    'Balancete.xlsx',\n",
    "    'Balancete (1).xlsx',\n",
    "    'Balancete (2).xlsx',\n",
    "    'Balancete (3).xlsx',\n",
    "    'Balancete (4).xlsx',\n",
    "    'Balancete (5).xlsx',\n",
    "    'Balancete (6).xlsx',\n",
    "    'Balancete (7).xlsx',\n",
    "    'Balancete (8).xlsx',\n",
    "    'Balancete (9).xlsx',\n",
    "    'Balancete (10).xlsx',\n",
    "    'Balancete (11).xlsx',\n",
    "    'Balancete (12).xlsx',\n",
    "    'Balancete (13).xlsx',\n",
    "    'Balancete (14).xlsx',\n",
    "    'Balancete (15).xlsx',\n",
    "    'Balancete (16).xlsx',\n",
    "    'Balancete (17).xlsx',\n",
    "    'Balancete (18).xlsx',\n",
    "    'Balancete (19).xlsx',\n",
    "    'Balancete (20).xlsx',\n",
    "    'Balancete (21).xlsx',\n",
    "    'Balancete (22).xlsx',\n",
    "    'Balancete (23).xlsx',\n",
    "    'Balancete (24).xlsx',\n",
    "    'Balancete (25).xlsx',\n",
    "]\n",
    "\n",
    "nomes_novos = [\n",
    "    f'Balancete CD BA - {referencia}.xlsx',\n",
    "    f'Balancete BD BA - {referencia}.xlsx',\n",
    "    f'Balancete CD RN - {referencia}.xlsx',\n",
    "    f'Balancete PGA - {referencia}.xlsx',\n",
    "    f'Balancete BD RN - {referencia}.xlsx',\n",
    "    f'Balancete CD PE - {referencia}.xlsx',\n",
    "    f'Balancete BD PE - {referencia}.xlsx',\n",
    "    f'Balancete CD NÉOS - {referencia}.xlsx',\n",
    "    f'Balancete CD BA Básico - {referencia}.xlsx',\n",
    "    f'Balancete CD BA Diferenciado - {referencia}.xlsx',\n",
    "    f'Balancete CD BA Conservador - {referencia}.xlsx',\n",
    "    f'Balancete CD RN Conservador - {referencia}.xlsx',\n",
    "    f'Balancete CD RN Moderado Plus - {referencia}.xlsx',\n",
    "    f'Balancete CD RN Moderado - {referencia}.xlsx',\n",
    "    f'Balancete CD RN Agressivo - {referencia}.xlsx',\n",
    "    f'Balancete CD RN Agressivo Plus - {referencia}.xlsx',\n",
    "    f'Balancete CD PE Super Conservador - {referencia}.xlsx',\n",
    "    f'Balancete CD PE Conservador - {referencia}.xlsx',\n",
    "    f'Balancete CD PE Moderado - {referencia}.xlsx',\n",
    "    f'Balancete CD PE Agressivo - {referencia}.xlsx',\n",
    "    f'Balancete CD PE Super Agressivo - {referencia}.xlsx',\n",
    "    f'Balancete CD Néos Super Conservador - {referencia}.xlsx',\n",
    "    f'Balancete CD Néos Conservador - {referencia}.xlsx',\n",
    "    f'Balancete CD Néos Moderado - {referencia}.xlsx',\n",
    "    f'Balancete CD Néos Agressivo - {referencia}.xlsx', \n",
    "]\n",
    "\n",
    "# Adicione este código ao seu script\n",
    "for i in range(len(nomes_antigos)):\n",
    "    # Construa o caminho completo para os nomes de arquivo antigos e novos\n",
    "    nome_antigo = os.path.join(diretorio, nomes_antigos[i])\n",
    "    novo_nome = os.path.join(diretorio, nomes_novos[i])\n",
    "\n",
    "    # Renomeia o arquivo\n",
    "    os.rename(nome_antigo, novo_nome)\n",
    "\n",
    "\n",
    "\n",
    "\n",
    "navegador.quit"
   ]
  },
  {
   "cell_type": "markdown",
   "metadata": {
    "slideshow": {
     "slide_type": "slide"
    }
   },
   "source": [
    "# FIM"
   ]
  },
  {
   "cell_type": "markdown",
   "metadata": {},
   "source": [
    "### Obrigado\n",
    "\n",
    "### Visite o Blog da Data Science Academy - <a href=\"http://blog.dsacademy.com.br\">Blog DSA</a>"
   ]
  }
 ],
 "metadata": {
  "css": [
   ""
  ],
  "kernelspec": {
   "display_name": "base",
   "language": "python",
   "name": "python3"
  },
  "language_info": {
   "codemirror_mode": {
    "name": "ipython",
    "version": 3
   },
   "file_extension": ".py",
   "mimetype": "text/x-python",
   "name": "python",
   "nbconvert_exporter": "python",
   "pygments_lexer": "ipython3",
   "version": "3.9.13"
  }
 },
 "nbformat": 4,
 "nbformat_minor": 1
}
